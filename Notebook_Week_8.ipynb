{
 "cells": [
  {
   "cell_type": "markdown",
   "metadata": {},
   "source": [
    "<h1 style=\"color:#00A6D6;\">Week 8: Quantum cryptography beyond QKD</h1>\n",
    "\n",
    "This week we took a step further - towards quantum cryptography beyond key distribution! As it turns out, quantum cryptography offers many advantages for other protocols. However, even quantum is not a \"fix all\" solution to all our cryptographic problems without making further assumptions :-)\n",
    "\n",
    "<b>Important: JuliaBox has updated their kernel again - this notebook is tested for Julia 0.4.7! Before you run this notebook, click on \"Kernel\" in the menu above. Then go to \"Change kernel\" and select \"Julia 0.4.7\". Have fun!</b>"
   ]
  },
  {
   "cell_type": "code",
   "execution_count": null,
   "metadata": {
    "collapsed": false
   },
   "outputs": [],
   "source": [
    "include(\"source/main.jl\");"
   ]
  },
  {
   "cell_type": "markdown",
   "metadata": {},
   "source": [
    "<a id=Dist></a>\n",
    "<h2 style=\"color:#00A6D6;\">A weak bit commitment protocol</h2>\n",
    "\n",
    "As you have learned perfect bit commitments are not possible without assumptions even when using quantum communication. \n",
    "\n",
    "However, we can achieve something -even without assumptions- that goes beyond what we can hope to achieve classically: weak commitments. In such commitments, the receiver (Bob) has a significant probability of figuring out the committed value before the open phase, and also the sender (Alice) has quite some room to cheat and reveal an arbitrary bit during the open phase! Yet, neither Alice nor Bob can cheat arbitrarily well.\n",
    "\n",
    "Let's see how a very simple weak bit commitment scheme could work. Imagine Alice wants to commit a bit $b \\in \\{0,1\\}$ to Bob. \n",
    "\n",
    "Commit phase:\n",
    "Alice sends $|0\\rangle$ if $b=0$ and $|+\\rangle$ if $b=1$. Bob stores the received state $\\rho$.\n",
    "\n",
    "Open phase: \n",
    "Alice announces $b$. If $b=0$, Bob measures $\\rho$ in the standard basis and accepts if and only if he obtains outcome $0$. If $b=1$, Bob measures $\\rho$ in the Hadamard basis and accepts if and only if he obtains outcome $+$."
   ]
  },
  {
   "cell_type": "markdown",
   "metadata": {},
   "source": [
    "<h3 style=\"color:#00A6D6;\"> edX Exercise 1</h3>\n",
    "Let's first examine the full range of cheating possibilities. Let's imagine that Bob is honest, but Alice is trying to cheat. Which of the following is true? \n",
    "\n",
    "<ul>\n",
    "<li>If Alice correctly follows the protocol during the commit phase, then she is fully committed and cannot cheat: If she announces $b=1$ but sent $|0\\rangle$ then Bob will always catch her cheating, and similarly for $b=0$.\n",
    "<li>Even if Alice correctly follows the protocol during the commit phase, she can cheat with probability $1$.\n",
    "<li>Even if Alice correctly follows the protocol during the commit phase, she can cheat with probability at least $1/2$.\n",
    "</ul>\n",
    "\n",
    "\n",
    "Let's now examine more sophisticated cheating strategies for Alice. You might want to experiment below with states that Alice could prepare to convince Bob!"
   ]
  },
  {
   "cell_type": "code",
   "execution_count": null,
   "metadata": {
    "collapsed": false
   },
   "outputs": [],
   "source": [
    "# Note that if Alice is dishonest, then she can send any state she wants to Bob during the commit phase\n",
    "\n",
    "# State used in the simple protocol above \n",
    "rho0 = [1 0; 0 0]; \n",
    "rho1 = [1 1; 1 1]/2;\n",
    "\n",
    "# State that Alice actually sends\n",
    "rho = rho0;\n",
    "\n",
    "# Probability of revealing b=0 and Bob accepts\n",
    "M00 = [1 0; 0 0];\n",
    "p0 = trace(rho * M00);\n",
    "print(\"If Alice opens b=0, the probability that Bob accepts is \", p0, \"\\n\");\n",
    "\n",
    "# Probability of revealing b=1, and Bob accepts\n",
    "Mplus = [1 1; 1 1]/2;\n",
    "pp = trace(rho * Mplus);\n",
    "print(\"If Alice opens b=1, the probability that Bob accepts is \", pp, \"\\n\");\n"
   ]
  },
  {
   "cell_type": "markdown",
   "metadata": {},
   "source": [
    "<h3 style=\"color:#00A6D6;\"> edX Exercise 2</h3>\n",
    "Let's again consider the case of cheating Alice. There exists a state $\\rho$ that Alice can prepare that allows her to open both $b=0$ and $b=1$ such that Bob accepts with probability $p$ where\n",
    "\n",
    "<ul>\n",
    "<li>$p=1$\n",
    "<li>$p = 0.9$\n",
    "<li>$p \\approx 0.854$\n",
    "<li> None of the above.\n",
    "</ul>\n",
    "\n",
    "Go find a state that yields the specified $p$ (if it exists...). You can test it using the code above!"
   ]
  },
  {
   "cell_type": "code",
   "execution_count": null,
   "metadata": {
    "collapsed": false
   },
   "outputs": [],
   "source": [
    "# Your Julia Code goes here"
   ]
  },
  {
   "cell_type": "markdown",
   "metadata": {},
   "source": [
    "<h4>Can Bob cheat?</h4>\n",
    "Let us now consider the probability that Bob himself can cheat. Alice thus honestly commits to a bit $b$ using the protocol above. However, cheating Bob tries to extract the bit $b$ before the open phase!\n",
    "\n",
    "<h3 style=\"color:#00A6D6;\"> edX Exercise 3</h3>\n",
    "What is the probability that if Bob is apriori ignorant about the bit $b$, he correctly guesses $b$ after the commit phase?\n",
    "\n",
    "<ul>\n",
    "<li>$p=1$\n",
    "<li>$p \\approx 0.854$\n",
    "<li>$p \\approx 3/4$\n",
    "<li>$p = 1/2$.\n",
    "</ul>"
   ]
  },
  {
   "cell_type": "code",
   "execution_count": null,
   "metadata": {
    "collapsed": false
   },
   "outputs": [],
   "source": [
    "# Your Julia Code goes here"
   ]
  },
  {
   "cell_type": "markdown",
   "metadata": {},
   "source": [
    "<h4> Searching for a better protocol</h4>\n",
    "\n",
    "Can we improve the protocol above? A first guess might be to \"fix\" Bob's ability to cheat! Let's consider the following protocol:\n",
    "\n",
    "Commit phase:\n",
    "If $b=0$, then Alice chooses a random bit $x \\in \\{0,1\\}$ with probability $p_x=1/2$. She sends to Bob $x$ encoded in the BB84 basis $b$. That is, she sends $|x\\rangle$ in the standard basis.\n",
    "\n",
    "If $b=1$, then Alice chooses a random bit $x \\in \\{0,1\\}$. She sends $x$ in the Hadamard basis: $|+\\rangle$ for $x=0$ and $|-\\rangle$ for $x=1$.\n",
    "\n",
    "<h3 style=\"color:#00A6D6;\"> edX Exercise 4</h3>\n",
    "What is the probability that if Bob is apriori ignorant about the bit $b$, he correctly guesses $b$ after the commit phase?\n",
    "\n",
    "<ul>\n",
    "<li>$p=1$\n",
    "<li>$p \\approx 0.854$\n",
    "<li>$p \\approx 3/4$\n",
    "<li>$p = 1/2$.\n",
    "</ul>"
   ]
  },
  {
   "cell_type": "code",
   "execution_count": null,
   "metadata": {
    "collapsed": true
   },
   "outputs": [],
   "source": [
    "# Your Julia codes goes here"
   ]
  },
  {
   "cell_type": "markdown",
   "metadata": {},
   "source": [
    "<h3 style=\"color:#00A6D6;\"> edX Exercise 5</h3>\n",
    "What is the probability that Alice can cheat in this new protocol? That is, what is the probability that Alice can reveal a bit $b$ of her choosing in the open phase?\n",
    "<ul>\n",
    "<li>$p=1$\n",
    "<li>$p \\approx 0.854$\n",
    "<li>$p \\approx 3/4$\n",
    "<li>$p = 1/2$.\n",
    "</ul>\n",
    "\n",
    "Go find a cheating strategy for Alice!"
   ]
  },
  {
   "cell_type": "code",
   "execution_count": null,
   "metadata": {
    "collapsed": true
   },
   "outputs": [],
   "source": [
    "# Your Julia code goes here"
   ]
  },
  {
   "cell_type": "markdown",
   "metadata": {},
   "source": [
    "<h4>Better protocol</h4>\n",
    "Your challenge is now to find a better protocol! If you wish, you may go beyond using a single qubit. To keep things manageable we will however consider protocols of the same form: Alice prepares one of two possible states, one for $b=0$ and one for $b=1$. Bob makes two possible measurements in the open phase depending on which bit Alice announces.\n",
    "\n",
    "For your protocol, investigate both the probability that Alice cheats, and the probability that Bob can cheat. \n"
   ]
  },
  {
   "cell_type": "code",
   "execution_count": null,
   "metadata": {
    "collapsed": false
   },
   "outputs": [],
   "source": [
    "# Your Julia Code here!"
   ]
  },
  {
   "cell_type": "markdown",
   "metadata": {},
   "source": [
    "<h3 style=\"color:#00A6D6;\"> edX Exercise 6</h3>\n",
    "Given your investigations, which of the following statements do you agree with\n",
    "\n",
    "<ul>\n",
    "<li>There is no better protocol than the above! All parameters are optimal.\n",
    "<li>There is a protocol which gives a lower probability of cheating for Alice, but not for Bob.\n",
    "<li>There is a protocol which gives a lower probability of cheating for Bob, but not for Alice.\n",
    "<li>There is a protocol which has a lower probability of cheating for both Bob and Alice.\n",
    "</ul>"
   ]
  },
  {
   "cell_type": "markdown",
   "metadata": {
    "collapsed": true
   },
   "source": [
    "<a rel=\"license\" href=\"http://creativecommons.org/licenses/by-nc/4.0/\"><img alt=\"Creative Commons License\" style=\"border-width:0\" src=\"https://i.creativecommons.org/l/by-nc/4.0/88x31.png\" /></a><br /><span xmlns:dct=\"http://purl.org/dc/terms/\" property=\"dct:title\">Week 8 Exercises for QuCryptoX</span> by David Elkouss and Stephanie Wehner for <a xmlns:cc=\"http://creativecommons.org/ns#\" href=\"http://qutech.nl/edu/\" property=\"cc:attributionName\" rel=\"cc:attributionURL\">QuTech Academy</a> is licensed under a <a rel=\"license\" href=\"http://creativecommons.org/licenses/by-nc/4.0/\">Creative Commons Attribution-NonCommercial 4.0 International License</a>."
   ]
  },
  {
   "cell_type": "code",
   "execution_count": null,
   "metadata": {
    "collapsed": true
   },
   "outputs": [],
   "source": []
  }
 ],
 "metadata": {
  "anaconda-cloud": {},
  "kernelspec": {
   "display_name": "Julia 0.5.0",
   "language": "julia",
   "name": "julia-0.5"
  },
  "language_info": {
   "file_extension": ".jl",
   "mimetype": "application/julia",
   "name": "julia",
   "version": "0.5.0"
  }
 },
 "nbformat": 4,
 "nbformat_minor": 0
}
